{
 "cells": [
  {
   "cell_type": "code",
   "execution_count": null,
   "metadata": {},
   "outputs": [],
   "source": [
    "import pandas as pd\n",
    "import matplotlib.pyplot as plt\n",
    "import numpy as np\n",
    "import pmdarima as pmd\n",
    "import pickle\n",
    "\n",
    "pd.options.display.max_rows = 9999\n",
    "pd.options.display.max_columns = 100\n",
    "\n",
    "def smape(A, F):\n",
    "    return 100/len(A) * np.sum(2 * np.abs(F - A) / (np.abs(A) + np.abs(F)))\n",
    "\n",
    "def show_ts(ts, forecast=None, title=\"Title\", sampling=\"Samplingrate\"):\n",
    "    ax = ts.plot(label = \"Observed\", figsize=(10,3))\n",
    "    if not (forecast is None):\n",
    "        forecast.plot(ax=ax, label='Forecast')\n",
    "        plt.legend()\n",
    "\n",
    "    ax.set_xlabel('Date')\n",
    "    ax.set_ylabel('Messages/'+sampling)\n",
    "    plt.title(title)\n",
    "    plt.show()"
   ]
  },
  {
   "cell_type": "code",
   "execution_count": null,
   "metadata": {
    "scrolled": true
   },
   "outputs": [],
   "source": [
    "data_names = [\"avazu\",\"IoT\",\"wiki_de\",\"wiki_en\",\"horton\",\"retailrocket\",\"taxi\",\"alibaba\",\"google\"]\n",
    "sampling_rates = [\"1h\",\"15min\",\"5min\"]\n",
    "print(\"SMAPE\")\n",
    "for dn in data_names:\n",
    "    print(dn.capitalize())\n",
    "    for s in sampling_rates:\n",
    "        print(\"  \", s)\n",
    "        \n",
    "        results = pd.read_csv(\"results/\"+ dn + \"_\" + s + \"_results.csv\", index_col=0, parse_dates=True)\n",
    "        models = results.columns[1:]\n",
    "        model_smape = []\n",
    "        for m in models:\n",
    "            model_smape.append((smape(results.t,results[m]),m))\n",
    "        model_smape =sorted(model_smape)\n",
    "        \n",
    "        for m in model_smape:\n",
    "            print(\"    \", m[1], np.round(m[0],2), \"%\")\n",
    "    print()"
   ]
  },
  {
   "cell_type": "code",
   "execution_count": null,
   "metadata": {},
   "outputs": [],
   "source": [
    "show_ts(results.t, results.ARIMA)\n",
    "show_ts(results.t, results.SARIMA)"
   ]
  },
  {
   "cell_type": "code",
   "execution_count": null,
   "metadata": {},
   "outputs": [],
   "source": [
    "durations = pd.read_csv(\"results/durations.csv\")\n",
    "display(durations)"
   ]
  }
 ],
 "metadata": {
  "kernelspec": {
   "display_name": "Python 3",
   "language": "python",
   "name": "python3"
  },
  "language_info": {
   "codemirror_mode": {
    "name": "ipython",
    "version": 3
   },
   "file_extension": ".py",
   "mimetype": "text/x-python",
   "name": "python",
   "nbconvert_exporter": "python",
   "pygments_lexer": "ipython3",
   "version": "3.7.7"
  }
 },
 "nbformat": 4,
 "nbformat_minor": 4
}
