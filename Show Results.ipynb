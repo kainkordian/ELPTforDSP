{
 "cells": [
  {
   "cell_type": "code",
   "execution_count": 2,
   "metadata": {},
   "outputs": [],
   "source": [
    "import pandas as pd\n",
    "import matplotlib.pyplot as plt\n",
    "import numpy as np\n",
    "import pmdarima as pmd\n",
    "import pickle\n",
    "\n",
    "pd.options.display.max_rows = 9999\n",
    "pd.options.display.max_columns = 100\n",
    "\n",
    "def smape(A, F):\n",
    "    return 100/len(A) * np.sum(2 * np.abs(F - A) / (np.abs(A) + np.abs(F)))\n",
    "\n",
    "def show_ts(ts, forecast=None, title=\"Title\", sampling=\"Samplingrate\"):\n",
    "    plt.figure(figsize=(10,3))\n",
    "    plt.title(title)\n",
    "    plt.plot(ts, label=\"True\")\n",
    "    if not (forecast is None):\n",
    "        plt.plot(forecast, label=\"Forecast\")\n",
    "        plt.legend()\n",
    "    plt.xticks(pd.date_range(start=ts.index[0].date(), end=ts.index[-1].date()), rotation=45)\n",
    "    plt.ylabel(\"Messages / \" + sampling)\n",
    "    plt.show()"
   ]
  },
  {
   "cell_type": "code",
   "execution_count": null,
   "metadata": {},
   "outputs": [],
   "source": [
    "data_names = [\"avazu\",\"IoT\",\"wiki_de\",\"wiki_en\",\"horton\",\"retailrocket\"]\n",
    "sampling_rates = [\"1h\",\"15min\"]\n",
    "\n",
    "for dn in data_names:\n",
    "    print(dn.capitalize())\n",
    "    for s in sampling_rates:\n",
    "        results_df = pd.read_csv(\"results/\"+ dn + \"_\" + s + \"_results.csv\", index_col=0, parse_dates=True)\n",
    "        err = smape(results_df.t, results_df.SARIMA)\n",
    "        show_ts(results_df.t, results_df.SARIMA, title=dn.capitalize()+\", \"+s+\", SARIMA, SMAPE: \" + str(np.round(err,2)), sampling=s)"
   ]
  },
  {
   "cell_type": "code",
   "execution_count": 5,
   "metadata": {},
   "outputs": [],
   "source": [
    "model = pickle.load(open(\"models/retailrocket_15min.pkl\",\"rb\"))"
   ]
  },
  {
   "cell_type": "code",
   "execution_count": 6,
   "metadata": {},
   "outputs": [
    {
     "data": {
      "text/plain": [
       "ARIMA(order=(0, 0, 1), scoring_args={}, seasonal_order=(0, 1, 0, 96),\n",
       "      suppress_warnings=True)"
      ]
     },
     "execution_count": 6,
     "metadata": {},
     "output_type": "execute_result"
    }
   ],
   "source": [
    "model"
   ]
  },
  {
   "cell_type": "code",
   "execution_count": null,
   "metadata": {},
   "outputs": [],
   "source": []
  }
 ],
 "metadata": {
  "kernelspec": {
   "display_name": "Python 3",
   "language": "python",
   "name": "python3"
  },
  "language_info": {
   "codemirror_mode": {
    "name": "ipython",
    "version": 3
   },
   "file_extension": ".py",
   "mimetype": "text/x-python",
   "name": "python",
   "nbconvert_exporter": "python",
   "pygments_lexer": "ipython3",
   "version": "3.7.7"
  }
 },
 "nbformat": 4,
 "nbformat_minor": 4
}
